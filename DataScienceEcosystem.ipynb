{
 "cells": [
  {
   "cell_type": "code",
   "execution_count": 6,
   "id": "0b991f7f-dd35-4e47-8900-66d6802c2576",
   "metadata": {},
   "outputs": [
    {
     "data": {
      "text/markdown": [
       "# Data Science Tools and Ecosystem"
      ],
      "text/plain": [
       "<IPython.core.display.Markdown object>"
      ]
     },
     "metadata": {},
     "output_type": "display_data"
    }
   ],
   "source": [
    "from IPython.display import display, Markdown\n",
    "display(Markdown(\"# Data Science Tools and Ecosystem\"))"
   ]
  },
  {
   "cell_type": "code",
   "execution_count": 7,
   "id": "f41b0a6a-c225-401b-8f5f-40f7988e8ba6",
   "metadata": {},
   "outputs": [
    {
     "data": {
      "text/markdown": [
       "In this notebook, Data Science Tools and Ecosystem are summarized."
      ],
      "text/plain": [
       "<IPython.core.display.Markdown object>"
      ]
     },
     "metadata": {},
     "output_type": "display_data"
    }
   ],
   "source": [
    "from IPython.display import display, Markdown\n",
    "display(Markdown(\"In this notebook, Data Science Tools and Ecosystem are summarized.\"))"
   ]
  },
  {
   "cell_type": "code",
   "execution_count": 8,
   "id": "ebcb2c7d-e078-4fac-985d-64f9fd16be69",
   "metadata": {},
   "outputs": [
    {
     "data": {
      "text/markdown": [
       "Some of the popular languages that Data Scientists use are:\n",
       "\n",
       "1. Python\n",
       "2. R\n",
       "3. SQL"
      ],
      "text/plain": [
       "<IPython.core.display.Markdown object>"
      ]
     },
     "metadata": {},
     "output_type": "display_data"
    }
   ],
   "source": [
    "from IPython.display import display, Markdown\n",
    "display(Markdown(\"Some of the popular languages that Data Scientists use are:\\n\\n1. Python\\n2. R\\n3. SQL\"))"
   ]
  },
  {
   "cell_type": "code",
   "execution_count": 17,
   "id": "d6d3b814-52b5-4593-ab2b-bff45e9d586f",
   "metadata": {},
   "outputs": [
    {
     "data": {
      "text/markdown": [
       "**Objectives:**\n",
       "\n",
       "- Popular languages for Data Science\n",
       "- Commonly used libraries in Data Science\n",
       "- Data Scientist Career"
      ],
      "text/plain": [
       "<IPython.core.display.Markdown object>"
      ]
     },
     "metadata": {},
     "output_type": "display_data"
    }
   ],
   "source": [
    "from IPython.display import display, Markdown\n",
    "display(Markdown(\"**Objectives:**\\n\\n- Popular languages for Data Science\\n- Commonly used libraries in Data Science\\n- Data Scientist Career\"))"
   ]
  },
  {
   "cell_type": "code",
   "execution_count": 10,
   "id": "e11d7bca-363a-4bcb-9dea-766a54ec933d",
   "metadata": {},
   "outputs": [
    {
     "data": {
      "text/markdown": [
       "Some of the commonly used libraries used by Data Scientists include:\n",
       "\n",
       "1. Scikit-learn\n",
       "2. Numpy\n",
       "3. Pandas"
      ],
      "text/plain": [
       "<IPython.core.display.Markdown object>"
      ]
     },
     "metadata": {},
     "output_type": "display_data"
    }
   ],
   "source": [
    "from IPython.display import display, Markdown\n",
    "display(Markdown(\"Some of the commonly used libraries used by Data Scientists include:\\n\\n1. Scikit-learn\\n2. Numpy\\n3. Pandas\"))"
   ]
  },
  {
   "cell_type": "code",
   "execution_count": 11,
   "id": "ed04b434-c318-4242-8258-07c64caad5bf",
   "metadata": {},
   "outputs": [
    {
     "data": {
      "text/markdown": [
       "| Data Science Tools |\n",
       "|-------------------|\n",
       "| Jupyter Notebook  |\n",
       "| RStudio           |\n",
       "| Apache Zeppelin   |"
      ],
      "text/plain": [
       "<IPython.core.display.Markdown object>"
      ]
     },
     "metadata": {},
     "output_type": "display_data"
    }
   ],
   "source": [
    "from IPython.display import display, Markdown\n",
    "display(Markdown(\"| Data Science Tools |\\n|-------------------|\\n| Jupyter Notebook  |\\n| RStudio           |\\n| Apache Zeppelin   |\"))"
   ]
  },
  {
   "cell_type": "code",
   "execution_count": 12,
   "id": "069ff77b-2ef0-4b39-bd89-2fa938c50477",
   "metadata": {},
   "outputs": [
    {
     "data": {
      "text/markdown": [
       "### Below are a few examples of evaluating arithmetic expressions in Python."
      ],
      "text/plain": [
       "<IPython.core.display.Markdown object>"
      ]
     },
     "metadata": {},
     "output_type": "display_data"
    }
   ],
   "source": [
    "from IPython.display import display, Markdown\n",
    "display(Markdown(\"### Below are a few examples of evaluating arithmetic expressions in Python.\"))"
   ]
  },
  {
   "cell_type": "code",
   "execution_count": 13,
   "id": "15f90947-2206-4288-8a9b-7f9c8cd55a5c",
   "metadata": {},
   "outputs": [
    {
     "data": {
      "text/plain": [
       "17"
      ]
     },
     "execution_count": 13,
     "metadata": {},
     "output_type": "execute_result"
    }
   ],
   "source": [
    "result = (3 * 4) + 5\n",
    "result"
   ]
  },
  {
   "cell_type": "code",
   "execution_count": 15,
   "id": "feb60dea-2bfb-4a47-8bca-755bd6296b29",
   "metadata": {},
   "outputs": [
    {
     "data": {
      "text/plain": [
       "3.3333333333333335"
      ]
     },
     "execution_count": 15,
     "metadata": {},
     "output_type": "execute_result"
    }
   ],
   "source": [
    "hours = 200 / 60\n",
    "hours"
   ]
  },
  {
   "cell_type": "code",
   "execution_count": 19,
   "id": "8133f101-aa73-47a1-b27e-51ddee857c0d",
   "metadata": {},
   "outputs": [
    {
     "data": {
      "text/markdown": [
       "## Author\n",
       "P.Karhumaa"
      ],
      "text/plain": [
       "<IPython.core.display.Markdown object>"
      ]
     },
     "metadata": {},
     "output_type": "display_data"
    }
   ],
   "source": [
    "from IPython.display import display, Markdown\n",
    "display(Markdown(\"## Author\\nP.Karhumaa\"))"
   ]
  },
  {
   "cell_type": "code",
   "execution_count": 20,
   "id": "b747d6dc-6771-47a8-85ce-7c4582df7c99",
   "metadata": {},
   "outputs": [
    {
     "ename": "NameError",
     "evalue": "name 'git' is not defined",
     "output_type": "error",
     "traceback": [
      "\u001b[0;31m---------------------------------------------------------------------------\u001b[0m",
      "\u001b[0;31mNameError\u001b[0m                                 Traceback (most recent call last)",
      "Cell \u001b[0;32mIn[20], line 1\u001b[0m\n\u001b[0;32m----> 1\u001b[0m \u001b[43mgit\u001b[49m \u001b[38;5;241m-\u001b[39m\u001b[38;5;241m-\u001b[39mversion\n",
      "\u001b[0;31mNameError\u001b[0m: name 'git' is not defined"
     ]
    }
   ],
   "source": [
    "git --version"
   ]
  },
  {
   "cell_type": "code",
   "execution_count": null,
   "id": "4c3230ce-adc5-4f60-b9b7-7f458c88f503",
   "metadata": {},
   "outputs": [],
   "source": []
  }
 ],
 "metadata": {
  "kernelspec": {
   "display_name": "Python 3 (ipykernel)",
   "language": "python",
   "name": "python3"
  },
  "language_info": {
   "codemirror_mode": {
    "name": "ipython",
    "version": 3
   },
   "file_extension": ".py",
   "mimetype": "text/x-python",
   "name": "python",
   "nbconvert_exporter": "python",
   "pygments_lexer": "ipython3",
   "version": "3.12.8"
  }
 },
 "nbformat": 4,
 "nbformat_minor": 5
}
